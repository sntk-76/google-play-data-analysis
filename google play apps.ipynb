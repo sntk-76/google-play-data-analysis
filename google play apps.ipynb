{
 "cells": [
  {
   "cell_type": "markdown",
   "metadata": {},
   "source": [
    "in the below box we try to import the libraries that we want to use in our analysis procedure : "
   ]
  },
  {
   "cell_type": "code",
   "execution_count": null,
   "metadata": {},
   "outputs": [],
   "source": [
    "import numpy as np\n",
    "import pandas as pd\n",
    "import matplotlib.pyplot as plt"
   ]
  },
  {
   "cell_type": "markdown",
   "metadata": {},
   "source": [
    "Then we import tye dataset : "
   ]
  },
  {
   "cell_type": "code",
   "execution_count": null,
   "metadata": {},
   "outputs": [],
   "source": [
    "dataset = pd.read_csv('D:/other/python/IMT/first project/google-play-data-analysis/Google-Playstore.csv')\n",
    "df = pd.DataFrame(dataset)\n",
    "df"
   ]
  },
  {
   "cell_type": "markdown",
   "metadata": {},
   "source": [
    "Then we want to have a description about our data to findout some aspect of data, to have the best analysis that are appropriate for our database : "
   ]
  },
  {
   "cell_type": "code",
   "execution_count": null,
   "metadata": {},
   "outputs": [],
   "source": [
    "df.describe(include='all')\n"
   ]
  },
  {
   "cell_type": "code",
   "execution_count": null,
   "metadata": {},
   "outputs": [],
   "source": [
    "clean_df = df.dropna()"
   ]
  },
  {
   "cell_type": "code",
   "execution_count": null,
   "metadata": {},
   "outputs": [],
   "source": [
    "sample_df = clean_df.sample(frac=0.75,random_state=9)\n",
    "agg_df = sample_df.groupby('Category')['Rating'].mean().reset_index()\n",
    "agg_df"
   ]
  },
  {
   "cell_type": "code",
   "execution_count": null,
   "metadata": {},
   "outputs": [],
   "source": [
    "mapping_dic = {'Art & Design': 'Art',\n",
    "               'Music & Audio':'Multimedia',\n",
    "               'Video Players & Editors':'Multimedia',\n",
    "               'Photography':'Multimedia',\n",
    "               'Music':'Multimedia',\n",
    "               'Business':'Business',\n",
    "               'Finance':'Business',\n",
    "               'Strategy':'Business',\n",
    "               'Educational':'Educational',\n",
    "               'Education':'Educational',\n",
    "               'Simulation':'Educational',\n",
    "               'Word':'Educational',\n",
    "               'Health & Fitness':'Health & Fitness',\n",
    "               'Beauty':'Health & Fitness',\n",
    "               'Medical':'Health & Fitness',\n",
    "               'Sports':'Health & Fitness',\n",
    "               'Entertainment':'Entertainment',\n",
    "               'Action':'Entertainment',\n",
    "               'Adventure':'Entertainment',\n",
    "               'Arcade':'Entertainment',\n",
    "               'Board':'Entertainment',\n",
    "               'Casino':'Entertainment',\n",
    "               'Casual':'Entertainment',\n",
    "               'Comics':'Entertainment',\n",
    "               'Events':'Entertainment',\n",
    "               'Puzzle':'Entertainment',\n",
    "               'Racing':'Entertainment',\n",
    "               'Shopping':'Entertainment',\n",
    "               'Role Playing':'Entertainment',\n",
    "               'Auto & Vehicles':'Tools',\n",
    "               'Maps & Navigation':'Tools',\n",
    "               'News & Magazines':'Tools',\n",
    "               'House & Home':'Tools',\n",
    "               'Tools':'Tools',\n",
    "               'Weather':'Tools',\n",
    "               'Travel & Local':'Tools',\n",
    "               'Lifestyle':'Lifestyle',\n",
    "               'Parenting':'Lifestyle',\n",
    "               'Personalization':'Lifestyle',\n",
    "               'Productivity':'Lifestyle',\n",
    "               'Communication':'Communication',\n",
    "               'Dating':'Communication',\n",
    "               'Social':'Communication',\n",
    "               'Books & Reference':'Books & Reference',\n",
    "               'Libraries & Demo':'Books & Reference',\n",
    "               'Food & Drink':'Food & Drink',\n",
    "               'Trivia':'Other'}\n",
    "\n",
    "sample_df['Classified_category'] =sample_df['Category'].map(mapping_dic)\n",
    "sample_df \n",
    "\n",
    "               \n"
   ]
  },
  {
   "cell_type": "code",
   "execution_count": null,
   "metadata": {},
   "outputs": [],
   "source": [
    "agg_df = sample_df.groupby('Classified_category')['Rating'].mean().reset_index()\n",
    "agg_df"
   ]
  },
  {
   "cell_type": "code",
   "execution_count": null,
   "metadata": {},
   "outputs": [],
   "source": [
    "\n",
    "agg_df.plot.scatter('Classified_category','Rating',figsize=(12,8))\n",
    "plt.grid()\n",
    "plt.xticks(rotation=90)\n",
    "plt.title('Rating vs Categories')\n",
    "plt.show()\n"
   ]
  },
  {
   "cell_type": "code",
   "execution_count": null,
   "metadata": {},
   "outputs": [],
   "source": [
    "agg_df = sample_df.groupby('Classified_category')['Price'].mean().reset_index()\n",
    "agg_df.plot.scatter('Classified_category','Price',figsize=(12,8))\n",
    "plt.xticks(rotation=90)\n",
    "plt.grid()\n",
    "plt.title('Price vs Categories')\n",
    "plt.show()"
   ]
  }
 ],
 "metadata": {
  "kernelspec": {
   "display_name": "venv",
   "language": "python",
   "name": "python3"
  },
  "language_info": {
   "codemirror_mode": {
    "name": "ipython",
    "version": 3
   },
   "file_extension": ".py",
   "mimetype": "text/x-python",
   "name": "python",
   "nbconvert_exporter": "python",
   "pygments_lexer": "ipython3",
   "version": "3.11.4"
  },
  "orig_nbformat": 4
 },
 "nbformat": 4,
 "nbformat_minor": 2
}
